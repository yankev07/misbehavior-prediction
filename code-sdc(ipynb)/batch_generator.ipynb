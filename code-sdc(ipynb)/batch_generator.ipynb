{
 "cells": [
  {
   "cell_type": "code",
   "execution_count": null,
   "metadata": {},
   "outputs": [],
   "source": [
    "from keras.utils import Sequence\n",
    "from keras.layers import np\n",
    "from utils_train_self_driving_car import IMAGE_HEIGHT, IMAGE_WIDTH, IMAGE_CHANNELS, load_image, augment, preprocess\n",
    "\n",
    "\n",
    "class Generator(Sequence):\n",
    "\n",
    "    def __init__(self, path_to_pictures, steering_angles, is_training, args):\n",
    "        self.batch_size = args.batch_size\n",
    "        self.path_to_pictures = path_to_pictures\n",
    "        self.steering_angles = steering_angles\n",
    "        self.is_training = is_training\n",
    "        self.args = args\n",
    "\n",
    "    def __getitem__(self, index):\n",
    "        start_index = index * self.batch_size\n",
    "        end_index = start_index + self.batch_size\n",
    "        batch_paths = self.path_to_pictures[start_index:end_index]\n",
    "        steering_angles = self.steering_angles[start_index:end_index]\n",
    "\n",
    "        images = np.empty([len(batch_paths), IMAGE_HEIGHT, IMAGE_WIDTH, IMAGE_CHANNELS])\n",
    "        steers = np.empty([len(batch_paths)])\n",
    "        for i, paths in enumerate(batch_paths):\n",
    "            center, left, right = batch_paths[i]\n",
    "            steering_angle = steering_angles[i]\n",
    "            # augmentation\n",
    "            if self.is_training and np.random.rand() < 0.6:\n",
    "                image, steering_angle = augment(self.args.data_dir, center, left, right, steering_angle)\n",
    "            else:\n",
    "                image = load_image(self.args.data_dir, center)\n",
    "            # add the image and steering angle to the batch\n",
    "            images[i] = preprocess(image)\n",
    "            steers[i] = steering_angle\n",
    "        return images, steers\n",
    "\n",
    "    def __len__(self):\n",
    "        return len(self.path_to_pictures) // self.batch_size\n"
   ]
  }
 ],
 "metadata": {
  "kernelspec": {
   "display_name": "Python 3",
   "language": "python",
   "name": "python3"
  },
  "language_info": {
   "codemirror_mode": {
    "name": "ipython",
    "version": 3
   },
   "file_extension": ".py",
   "mimetype": "text/x-python",
   "name": "python",
   "nbconvert_exporter": "python",
   "pygments_lexer": "ipython3",
   "version": "3.7.6"
  }
 },
 "nbformat": 4,
 "nbformat_minor": 4
}
