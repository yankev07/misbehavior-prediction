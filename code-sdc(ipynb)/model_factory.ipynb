{
 "cells": [
  {
   "cell_type": "code",
   "execution_count": null,
   "metadata": {},
   "outputs": [],
   "source": [
    "import logging\n",
    "\n",
    "import keras\n",
    "\n",
    "from models import chauffeur, epoch, nvidia_dave2\n",
    "from models.chauffeur import Chauffeur\n",
    "from models.epoch import Epoch\n",
    "from models.nvidia_dave2 import Dave2\n",
    "\n",
    "logger = logging.Logger(\"model_factory\")\n",
    "\n",
    "\n",
    "def get_model(args) -> keras.Model:\n",
    "    model_name = args.model\n",
    "    if model_name == chauffeur.NAME:\n",
    "        model_provider = Chauffeur()\n",
    "    elif model_name == epoch.NAME:\n",
    "        model_provider = Epoch()\n",
    "    elif model_name == nvidia_dave2.NAME:\n",
    "        model_provider = Dave2()\n",
    "    else:\n",
    "        logger.error(\"Model not found\")\n",
    "        exit(1)\n",
    "        model_provider = None  # Unconfuse Jetbrains\n",
    "    return model_provider.get_model(args)\n"
   ]
  }
 ],
 "metadata": {
  "kernelspec": {
   "display_name": "Python 3",
   "language": "python",
   "name": "python3"
  },
  "language_info": {
   "codemirror_mode": {
    "name": "ipython",
    "version": 3
   },
   "file_extension": ".py",
   "mimetype": "text/x-python",
   "name": "python",
   "nbconvert_exporter": "python",
   "pygments_lexer": "ipython3",
   "version": "3.7.6"
  }
 },
 "nbformat": 4,
 "nbformat_minor": 4
}
