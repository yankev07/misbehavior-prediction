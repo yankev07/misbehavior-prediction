{
 "cells": [
  {
   "cell_type": "code",
   "execution_count": null,
   "metadata": {},
   "outputs": [],
   "source": [
    "import argparse\n",
    "import os\n",
    "\n",
    "from moviepy.editor import ImageSequenceClip\n",
    "\n",
    "IMAGE_EXT = ['jpeg', 'gif', 'png', 'jpg']\n",
    "\n",
    "\n",
    "def main():\n",
    "    parser = argparse.ArgumentParser(description='Create driving video.')\n",
    "    parser.add_argument(\n",
    "        'image_folder',\n",
    "        type=str,\n",
    "        default='',\n",
    "        help='Path to image folder. The video will be created from these images.'\n",
    "    )\n",
    "    parser.add_argument(\n",
    "        '--fps',\n",
    "        type=int,\n",
    "        default=60,\n",
    "        help='FPS (Frames per second) setting for the video.')\n",
    "    args = parser.parse_args()\n",
    "\n",
    "    #convert file folder into list firltered for image file types\n",
    "    image_list = sorted([os.path.join(args.image_folder, image_file)\n",
    "                        for image_file in os.listdir(args.image_folder)])\n",
    "    \n",
    "    image_list = [image_file for image_file in image_list if os.path.splitext(image_file)[1][1:].lower() in IMAGE_EXT]\n",
    "\n",
    "    #two methods of naming output video to handle varying environemnts\n",
    "    video_file_1 = args.image_folder + '.mp4'\n",
    "    video_file_2 = args.image_folder + 'output_video.mp4'\n",
    "\n",
    "    print(\"Creating video {}, FPS={}\".format(args.image_folder, args.fps))\n",
    "    clip = ImageSequenceClip(image_list, fps=args.fps)\n",
    "    \n",
    "    try:\n",
    "        clip.write_videofile(video_file_1)\n",
    "    except:\n",
    "        clip.write_videofile(video_file_2)\n",
    "\n",
    "\n",
    "if __name__ == '__main__':\n",
    "    main()\n"
   ]
  }
 ],
 "metadata": {
  "kernelspec": {
   "display_name": "Python 3",
   "language": "python",
   "name": "python3"
  },
  "language_info": {
   "codemirror_mode": {
    "name": "ipython",
    "version": 3
   },
   "file_extension": ".py",
   "mimetype": "text/x-python",
   "name": "python",
   "nbconvert_exporter": "python",
   "pygments_lexer": "ipython3",
   "version": "3.7.6"
  }
 },
 "nbformat": 4,
 "nbformat_minor": 4
}
